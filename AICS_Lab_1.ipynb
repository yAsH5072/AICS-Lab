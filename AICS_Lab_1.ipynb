{
  "nbformat": 4,
  "nbformat_minor": 0,
  "metadata": {
    "colab": {
      "name": "AICS Lab 1.ipynb",
      "provenance": [],
      "collapsed_sections": [],
      "authorship_tag": "ABX9TyPg8zeWHS/Eu5yxAFLIOUat",
      "include_colab_link": true
    },
    "kernelspec": {
      "name": "python3",
      "display_name": "Python 3"
    },
    "language_info": {
      "name": "python"
    }
  },
  "cells": [
    {
      "cell_type": "markdown",
      "metadata": {
        "id": "view-in-github",
        "colab_type": "text"
      },
      "source": [
        "<a href=\"https://colab.research.google.com/github/yAsH5072/AICS-Lab/blob/main/AICS_Lab_1.ipynb\" target=\"_parent\"><img src=\"https://colab.research.google.com/assets/colab-badge.svg\" alt=\"Open In Colab\"/></a>"
      ]
    },
    {
      "cell_type": "code",
      "execution_count": null,
      "metadata": {
        "colab": {
          "base_uri": "https://localhost:8080/"
        },
        "id": "i2XVkgD6S1n_",
        "outputId": "6394b401-b0be-4bb4-b1ba-c2da008469ef"
      },
      "outputs": [
        {
          "output_type": "stream",
          "name": "stdout",
          "text": [
            "False\n",
            "Number of keys in the dictionary 5\n"
          ]
        },
        {
          "output_type": "execute_result",
          "data": {
            "text/plain": [
              "{'Name': 'Yash Watve',\n",
              " 'Section': 'C',\n",
              " 'Roll No.': '67',\n",
              " 'Email': 'watveyv@rknec.edu',\n",
              " 'Branch': 'Cyber Security',\n",
              " 'Position': 'Event Coordinator'}"
            ]
          },
          "metadata": {},
          "execution_count": 8
        }
      ],
      "source": [
        "# Dictionary\n",
        "stud = {'Name' : 'Yash Watve', \n",
        "        'Section' : 'C', \n",
        "        'Roll No.' : '67', \n",
        "        'Email' : 'watveyv@rknec.edu', \n",
        "        'Branch' : 'Cyber Security'}\n",
        "posn = {'Position' : 'Event Coordinator'}        \n",
        "\n",
        "print('Ketan' in stud)\n",
        "print(\"Number of keys in the dictionary\",len(stud))\n",
        "stud.update(posn)\n",
        "stud"
      ]
    },
    {
      "cell_type": "code",
      "source": [
        "# List\n",
        "prime = [2, 3, 5, 7, 11, 13, 17]\n",
        "comp = [1, 4, 6, 8, 9, 10, 12]\n",
        "list = prime + comp\n",
        "list.sort()\n",
        "print(list)"
      ],
      "metadata": {
        "colab": {
          "base_uri": "https://localhost:8080/"
        },
        "id": "WLZ_jK-TVPXQ",
        "outputId": "94f7bc3e-56b6-4e34-e4a0-66e7ce449c1c"
      },
      "execution_count": null,
      "outputs": [
        {
          "output_type": "stream",
          "name": "stdout",
          "text": [
            "[1, 2, 3, 4, 5, 6, 7, 8, 9, 10, 11, 12, 13, 17]\n"
          ]
        }
      ]
    },
    {
      "cell_type": "code",
      "source": [
        "# Tuple\n",
        "branches = (\"Cyber\", \"AIML\", \"DS\", \"Civil\", \"Mechanical\",\"Cyber\")\n",
        "branches.count(\"Cyber\")"
      ],
      "metadata": {
        "colab": {
          "base_uri": "https://localhost:8080/"
        },
        "id": "q01JTGL4W8oW",
        "outputId": "76daa089-008a-45d8-e3d8-99f98f36d6ad"
      },
      "execution_count": null,
      "outputs": [
        {
          "output_type": "execute_result",
          "data": {
            "text/plain": [
              "2"
            ]
          },
          "metadata": {},
          "execution_count": 12
        }
      ]
    },
    {
      "cell_type": "code",
      "source": [],
      "metadata": {
        "id": "zC7xMCQaXeeN"
      },
      "execution_count": null,
      "outputs": []
    }
  ]
}